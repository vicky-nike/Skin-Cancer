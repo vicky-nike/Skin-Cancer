{
  "nbformat": 4,
  "nbformat_minor": 0,
  "metadata": {
    "colab": {
      "name": "Skin cancer 3.ipynb",
      "provenance": [],
      "collapsed_sections": []
    },
    "kernelspec": {
      "name": "python3",
      "display_name": "Python 3"
    },
    "accelerator": "GPU"
  },
  "cells": [
    {
      "cell_type": "code",
      "metadata": {
        "id": "D7t94ZEhfbcV"
      },
      "source": [
        "import pandas as pd\n",
        "import numpy as np\n",
        "from keras.models import Sequential\n",
        "from keras import optimizers\n",
        "from keras.layers import Dense, Conv2D, Dropout, Flatten, MaxPooling2D\n",
        "from keras.applications import VGG16\n",
        "import os\n",
        "import subprocess as sbp\n",
        "from google.colab import files\n",
        "from zipfile import ZipFile\n",
        "from sklearn.model_selection import train_test_split\n",
        "from sklearn.preprocessing import LabelEncoder\n",
        "from keras_preprocessing.image import ImageDataGenerator\n",
        "from keras.callbacks import ReduceLROnPlateau\n",
        "from keras.optimizers import Adam\n",
        "from keras.callbacks import ModelCheckpoint"
      ],
      "execution_count": 1,
      "outputs": []
    },
    {
      "cell_type": "code",
      "metadata": {
        "id": "BrqaI-OphHd_",
        "outputId": "8721b06c-32fe-4455-ab2f-c3320d75e834",
        "colab": {
          "base_uri": "https://localhost:8080/",
          "height": 245
        }
      },
      "source": [
        "!pip install kaggle"
      ],
      "execution_count": 2,
      "outputs": [
        {
          "output_type": "stream",
          "text": [
            "Requirement already satisfied: kaggle in /usr/local/lib/python3.6/dist-packages (1.5.8)\n",
            "Requirement already satisfied: python-slugify in /usr/local/lib/python3.6/dist-packages (from kaggle) (4.0.1)\n",
            "Requirement already satisfied: six>=1.10 in /usr/local/lib/python3.6/dist-packages (from kaggle) (1.15.0)\n",
            "Requirement already satisfied: python-dateutil in /usr/local/lib/python3.6/dist-packages (from kaggle) (2.8.1)\n",
            "Requirement already satisfied: urllib3<1.25,>=1.21.1 in /usr/local/lib/python3.6/dist-packages (from kaggle) (1.24.3)\n",
            "Requirement already satisfied: certifi in /usr/local/lib/python3.6/dist-packages (from kaggle) (2020.6.20)\n",
            "Requirement already satisfied: requests in /usr/local/lib/python3.6/dist-packages (from kaggle) (2.23.0)\n",
            "Requirement already satisfied: tqdm in /usr/local/lib/python3.6/dist-packages (from kaggle) (4.41.1)\n",
            "Requirement already satisfied: slugify in /usr/local/lib/python3.6/dist-packages (from kaggle) (0.0.1)\n",
            "Requirement already satisfied: text-unidecode>=1.3 in /usr/local/lib/python3.6/dist-packages (from python-slugify->kaggle) (1.3)\n",
            "Requirement already satisfied: chardet<4,>=3.0.2 in /usr/local/lib/python3.6/dist-packages (from requests->kaggle) (3.0.4)\n",
            "Requirement already satisfied: idna<3,>=2.5 in /usr/local/lib/python3.6/dist-packages (from requests->kaggle) (2.10)\n"
          ],
          "name": "stdout"
        }
      ]
    },
    {
      "cell_type": "code",
      "metadata": {
        "id": "NHuZdWGchZZD",
        "outputId": "ca30923a-6182-44c6-cf82-a3c764a246d0",
        "colab": {
          "resources": {
            "http://localhost:8080/nbextensions/google.colab/files.js": {
              "data": "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",
              "ok": true,
              "headers": [
                [
                  "content-type",
                  "application/javascript"
                ]
              ],
              "status": 200,
              "status_text": "OK"
            }
          },
          "base_uri": "https://localhost:8080/",
          "height": 96
        }
      },
      "source": [
        "files.upload()"
      ],
      "execution_count": 3,
      "outputs": [
        {
          "output_type": "display_data",
          "data": {
            "text/html": [
              "\n",
              "     <input type=\"file\" id=\"files-f212e0ed-15c5-4f71-938d-5f830a60dd17\" name=\"files[]\" multiple disabled\n",
              "        style=\"border:none\" />\n",
              "     <output id=\"result-f212e0ed-15c5-4f71-938d-5f830a60dd17\">\n",
              "      Upload widget is only available when the cell has been executed in the\n",
              "      current browser session. Please rerun this cell to enable.\n",
              "      </output>\n",
              "      <script src=\"/nbextensions/google.colab/files.js\"></script> "
            ],
            "text/plain": [
              "<IPython.core.display.HTML object>"
            ]
          },
          "metadata": {
            "tags": []
          }
        },
        {
          "output_type": "stream",
          "text": [
            "Saving kaggle.json to kaggle.json\n"
          ],
          "name": "stdout"
        },
        {
          "output_type": "execute_result",
          "data": {
            "text/plain": [
              "{'kaggle.json': b'{\"username\":\"risingsun20\",\"key\":\"e28e911d6662461fad8a0914a14d1497\"}'}"
            ]
          },
          "metadata": {
            "tags": []
          },
          "execution_count": 3
        }
      ]
    },
    {
      "cell_type": "code",
      "metadata": {
        "id": "U8frJz7Uhdva"
      },
      "source": [
        "!mkdir -p ~/.kaggle\n",
        "!cp kaggle.json ~/.kaggle/\n",
        "\n",
        "#change permission\n",
        "!chmod 600 ~/.kaggle/kaggle.json"
      ],
      "execution_count": 4,
      "outputs": []
    },
    {
      "cell_type": "code",
      "metadata": {
        "id": "5kqyjmZtheZS",
        "outputId": "7f59c26e-75ad-4869-90af-5edbd2ed1a93",
        "colab": {
          "base_uri": "https://localhost:8080/",
          "height": 69
        }
      },
      "source": [
        "!kaggle datasets download -d kmader/skin-cancer-mnist-ham10000"
      ],
      "execution_count": 5,
      "outputs": [
        {
          "output_type": "stream",
          "text": [
            "Downloading skin-cancer-mnist-ham10000.zip to /content\n",
            "100% 5.20G/5.20G [01:48<00:00, 44.6MB/s]\n",
            "100% 5.20G/5.20G [01:48<00:00, 51.3MB/s]\n"
          ],
          "name": "stdout"
        }
      ]
    },
    {
      "cell_type": "code",
      "metadata": {
        "id": "b7z1UFleiDMn",
        "outputId": "b22ef06c-2e37-4dfe-85f5-37de101b8e5c",
        "colab": {
          "base_uri": "https://localhost:8080/",
          "height": 34
        }
      },
      "source": [
        "file_name = \"skin-cancer-mnist-ham10000.zip\"\n",
        "\n",
        "with ZipFile(file_name, 'r') as zip1:\n",
        "  zip1.extractall()\n",
        "  print(\"Done\")"
      ],
      "execution_count": 6,
      "outputs": [
        {
          "output_type": "stream",
          "text": [
            "Done\n"
          ],
          "name": "stdout"
        }
      ]
    },
    {
      "cell_type": "code",
      "metadata": {
        "id": "Y2q--8015HyL"
      },
      "source": [
        "path='/content/ham10000_images_part_1'\n",
        "fol = os.listdir(path)\n",
        "p2 = '/content/ham10000_images_part_2'\n",
        "\n",
        "for i in fol:\n",
        "    p1 = os.path.join(path,i)\n",
        "    p3 = 'cp -r ' + p1 +' ' + p2+'/.'\n",
        "    sbp.Popen(p3,shell=True)"
      ],
      "execution_count": 7,
      "outputs": []
    },
    {
      "cell_type": "code",
      "metadata": {
        "id": "WbZR_8Gji-Ig"
      },
      "source": [
        "data=pd.read_csv(\"HAM10000_metadata.csv\")\n",
        "data['image_name']=data['image_id']+'.jpg'\n",
        "X=data[['image_name','dx','lesion_id']]"
      ],
      "execution_count": 8,
      "outputs": []
    },
    {
      "cell_type": "code",
      "metadata": {
        "id": "3itcwwciiSS5"
      },
      "source": [
        "Y=X.pop('dx').to_frame()\n",
        "X_train, X_test, y_train, y_test   = train_test_split(X,Y, test_size=0.2, random_state=42)\n",
        "X_train,X_val,y_train,y_val        = train_test_split(X_train, y_train, test_size=0.25, random_state=42)"
      ],
      "execution_count": 9,
      "outputs": []
    },
    {
      "cell_type": "code",
      "metadata": {
        "id": "JF--IJJGiVNK"
      },
      "source": [
        "train=pd.concat([X_train,y_train],axis=1)\n",
        "val=pd.concat([X_val,y_val],axis=1)\n",
        "test=pd.concat([X_test,y_test],axis=1)"
      ],
      "execution_count": 10,
      "outputs": []
    },
    {
      "cell_type": "code",
      "metadata": {
        "id": "7ns7g2SZiXWD"
      },
      "source": [
        "evaluater= LabelEncoder()\n",
        "evaluater.fit(val['dx'])\n",
        "name_as_indexes_train=evaluater.transform(val['dx']) \n",
        "val['label']=name_as_indexes_train"
      ],
      "execution_count": 11,
      "outputs": []
    },
    {
      "cell_type": "code",
      "metadata": {
        "id": "TyUmaFxtiYEv"
      },
      "source": [
        "evaluater=LabelEncoder()\n",
        "evaluater.fit(test['dx'])\n",
        "name_as_indexes_test=evaluater.transform(test['dx']) \n",
        "test['label']=name_as_indexes_test"
      ],
      "execution_count": 12,
      "outputs": []
    },
    {
      "cell_type": "code",
      "metadata": {
        "id": "R60l2k92iZgF",
        "outputId": "354b61f3-ed3e-4fc4-c5a7-e120b1090c71",
        "colab": {
          "base_uri": "https://localhost:8080/",
          "height": 34
        }
      },
      "source": [
        "train_generator = ImageDataGenerator(rescale = 1./255,\n",
        "                                     rotation_range=10,  \n",
        "                                     zoom_range = 0.1, \n",
        "                                     width_shift_range=0.1,  height_shift_range=0.1) \n",
        "\n",
        "train_data= train_generator.flow_from_dataframe(dataframe=train,x_col=\"image_name\",y_col=\"dx\",\n",
        "                                                batch_size=64,directory=\"/content/ham10000_images_part_2\",\n",
        "                                                shuffle=True,class_mode=\"categorical\",target_size=(224,224))"
      ],
      "execution_count": 13,
      "outputs": [
        {
          "output_type": "stream",
          "text": [
            "Found 6009 validated image filenames belonging to 7 classes.\n"
          ],
          "name": "stdout"
        }
      ]
    },
    {
      "cell_type": "code",
      "metadata": {
        "id": "2uF6c4BcidZO",
        "outputId": "9d4f2c74-3833-44c7-c7f7-b91f9a71ef0a",
        "colab": {
          "base_uri": "https://localhost:8080/",
          "height": 34
        }
      },
      "source": [
        "test_generator=ImageDataGenerator(rescale = 1./255)\n",
        "\n",
        "test_data= test_generator.flow_from_dataframe(dataframe=test,x_col=\"image_name\",y_col=\"dx\",\n",
        "                                              directory=\"/content/ham10000_images_part_2\",\n",
        "                                              shuffle=False,batch_size=1,class_mode=None,target_size=(224,224))"
      ],
      "execution_count": 14,
      "outputs": [
        {
          "output_type": "stream",
          "text": [
            "Found 2003 validated image filenames.\n"
          ],
          "name": "stdout"
        }
      ]
    },
    {
      "cell_type": "code",
      "metadata": {
        "id": "MviU888Gihve",
        "outputId": "f46dd71c-4e83-48bc-ae2d-68bbd844b342",
        "colab": {
          "base_uri": "https://localhost:8080/",
          "height": 34
        }
      },
      "source": [
        "val_data=test_generator.flow_from_dataframe(dataframe=val,x_col=\"image_name\",y_col=\"dx\",\n",
        "                                            directory=\"/content/ham10000_images_part_2\",\n",
        "                                            batch_size=64,shuffle=False,class_mode=\"categorical\",target_size=(224,224))"
      ],
      "execution_count": 15,
      "outputs": [
        {
          "output_type": "stream",
          "text": [
            "Found 2003 validated image filenames belonging to 7 classes.\n"
          ],
          "name": "stdout"
        }
      ]
    },
    {
      "cell_type": "code",
      "metadata": {
        "id": "HH1Za-ydijTl"
      },
      "source": [
        "learningrate = ReduceLROnPlateau(monitor='val_loss', patience=3, verbose=1, factor=.5, min_lr=0.0001)"
      ],
      "execution_count": 16,
      "outputs": []
    },
    {
      "cell_type": "code",
      "metadata": {
        "id": "NqhS0RB3imaM"
      },
      "source": [
        "checkpoints = ModelCheckpoint('/content/best.h5', verbose=1,save_best_only=True)"
      ],
      "execution_count": 17,
      "outputs": []
    },
    {
      "cell_type": "code",
      "metadata": {
        "id": "p4ibmolyfusz",
        "outputId": "3d33cde9-769c-41f9-b6a1-347560f38ba7",
        "colab": {
          "base_uri": "https://localhost:8080/",
          "height": 72
        }
      },
      "source": [
        "vgg_model= VGG16(include_top=False, weights=\"imagenet\", input_shape=(224,224,3))"
      ],
      "execution_count": 18,
      "outputs": [
        {
          "output_type": "stream",
          "text": [
            "Downloading data from https://storage.googleapis.com/tensorflow/keras-applications/vgg16/vgg16_weights_tf_dim_ordering_tf_kernels_notop.h5\n",
            "58892288/58889256 [==============================] - 0s 0us/step\n"
          ],
          "name": "stdout"
        }
      ]
    },
    {
      "cell_type": "code",
      "metadata": {
        "id": "xKMMsa9M-YBK"
      },
      "source": [
        "model= Sequential()\n",
        "model.add(vgg_model)\n",
        "model.add(Conv2D(64, (3, 3), activation = 'relu'))\n",
        "model.add(Dropout(0.40))\n",
        "model.add(Conv2D(64, (3, 3), activation = 'relu'))\n",
        "model.add(MaxPooling2D(pool_size = (2, 2)))\n",
        "model.add(Dropout(0.40))\n",
        "model.add(Flatten())\n",
        "model.add(Dense(512,activation='relu'))\n",
        "model.add(Dropout(0.4))\n",
        "model.add(Dense(7, activation='softmax'))"
      ],
      "execution_count": 19,
      "outputs": []
    },
    {
      "cell_type": "code",
      "metadata": {
        "id": "phLN9mewiois",
        "outputId": "af1a1444-3646-4462-fe62-82c5d3e2bbfb",
        "colab": {
          "base_uri": "https://localhost:8080/",
          "height": 1000
        }
      },
      "source": [
        "model.compile(optimizer=optimizers.Adam(lr=0.0001),loss=\"categorical_crossentropy\",metrics=[\"accuracy\"])\n",
        "model.fit_generator(generator=train_data,\n",
        "                            steps_per_epoch=train_data.samples//train_data.batch_size,\n",
        "                            validation_data=val_data,\n",
        "                            verbose=1,\n",
        "                            validation_steps=val_data.samples//val_data.batch_size,\n",
        "                            epochs=100,callbacks=[learningrate,checkpoints])"
      ],
      "execution_count": 20,
      "outputs": [
        {
          "output_type": "stream",
          "text": [
            "WARNING:tensorflow:From <ipython-input-20-44500f9235d8>:7: Model.fit_generator (from tensorflow.python.keras.engine.training) is deprecated and will be removed in a future version.\n",
            "Instructions for updating:\n",
            "Please use Model.fit, which supports generators.\n",
            "Epoch 1/100\n",
            " 2/93 [..............................] - ETA: 34s - loss: 2.0011 - accuracy: 0.1094WARNING:tensorflow:Callbacks method `on_train_batch_end` is slow compared to the batch time (batch time: 0.2317s vs `on_train_batch_end` time: 0.5227s). Check your callbacks.\n",
            "93/93 [==============================] - ETA: 0s - loss: 1.1696 - accuracy: 0.6352\n",
            "Epoch 00001: val_loss improved from inf to 0.98058, saving model to /content/best.h5\n",
            "93/93 [==============================] - 169s 2s/step - loss: 1.1696 - accuracy: 0.6352 - val_loss: 0.9806 - val_accuracy: 0.6648\n",
            "Epoch 2/100\n",
            "93/93 [==============================] - ETA: 0s - loss: 0.9450 - accuracy: 0.6706\n",
            "Epoch 00002: val_loss improved from 0.98058 to 0.87493, saving model to /content/best.h5\n",
            "93/93 [==============================] - 160s 2s/step - loss: 0.9450 - accuracy: 0.6706 - val_loss: 0.8749 - val_accuracy: 0.6769\n",
            "Epoch 3/100\n",
            "93/93 [==============================] - ETA: 0s - loss: 0.8740 - accuracy: 0.6767\n",
            "Epoch 00003: val_loss improved from 0.87493 to 0.86591, saving model to /content/best.h5\n",
            "93/93 [==============================] - 157s 2s/step - loss: 0.8740 - accuracy: 0.6767 - val_loss: 0.8659 - val_accuracy: 0.7182\n",
            "Epoch 4/100\n",
            "93/93 [==============================] - ETA: 0s - loss: 0.8510 - accuracy: 0.6824\n",
            "Epoch 00004: val_loss improved from 0.86591 to 0.81022, saving model to /content/best.h5\n",
            "93/93 [==============================] - 153s 2s/step - loss: 0.8510 - accuracy: 0.6824 - val_loss: 0.8102 - val_accuracy: 0.7107\n",
            "Epoch 5/100\n",
            "93/93 [==============================] - ETA: 0s - loss: 0.8168 - accuracy: 0.6966\n",
            "Epoch 00005: val_loss improved from 0.81022 to 0.80019, saving model to /content/best.h5\n",
            "93/93 [==============================] - 157s 2s/step - loss: 0.8168 - accuracy: 0.6966 - val_loss: 0.8002 - val_accuracy: 0.7228\n",
            "Epoch 6/100\n",
            "93/93 [==============================] - ETA: 0s - loss: 0.7859 - accuracy: 0.7016\n",
            "Epoch 00006: val_loss improved from 0.80019 to 0.76362, saving model to /content/best.h5\n",
            "93/93 [==============================] - 156s 2s/step - loss: 0.7859 - accuracy: 0.7016 - val_loss: 0.7636 - val_accuracy: 0.7303\n",
            "Epoch 7/100\n",
            "93/93 [==============================] - ETA: 0s - loss: 0.7565 - accuracy: 0.7162\n",
            "Epoch 00007: val_loss did not improve from 0.76362\n",
            "93/93 [==============================] - 155s 2s/step - loss: 0.7565 - accuracy: 0.7162 - val_loss: 0.8060 - val_accuracy: 0.7072\n",
            "Epoch 8/100\n",
            "93/93 [==============================] - ETA: 0s - loss: 0.7344 - accuracy: 0.7233\n",
            "Epoch 00008: val_loss improved from 0.76362 to 0.74416, saving model to /content/best.h5\n",
            "93/93 [==============================] - 158s 2s/step - loss: 0.7344 - accuracy: 0.7233 - val_loss: 0.7442 - val_accuracy: 0.7455\n",
            "Epoch 9/100\n",
            "93/93 [==============================] - ETA: 0s - loss: 0.6785 - accuracy: 0.7509\n",
            "Epoch 00009: val_loss improved from 0.74416 to 0.70559, saving model to /content/best.h5\n",
            "93/93 [==============================] - 158s 2s/step - loss: 0.6785 - accuracy: 0.7509 - val_loss: 0.7056 - val_accuracy: 0.7485\n",
            "Epoch 10/100\n",
            "93/93 [==============================] - ETA: 0s - loss: 0.6644 - accuracy: 0.7608\n",
            "Epoch 00010: val_loss improved from 0.70559 to 0.68110, saving model to /content/best.h5\n",
            "93/93 [==============================] - 157s 2s/step - loss: 0.6644 - accuracy: 0.7608 - val_loss: 0.6811 - val_accuracy: 0.7601\n",
            "Epoch 11/100\n",
            "93/93 [==============================] - ETA: 0s - loss: 0.6493 - accuracy: 0.7627\n",
            "Epoch 00011: val_loss did not improve from 0.68110\n",
            "93/93 [==============================] - 156s 2s/step - loss: 0.6493 - accuracy: 0.7627 - val_loss: 0.7707 - val_accuracy: 0.7288\n",
            "Epoch 12/100\n",
            "93/93 [==============================] - ETA: 0s - loss: 0.6236 - accuracy: 0.7770\n",
            "Epoch 00012: val_loss did not improve from 0.68110\n",
            "93/93 [==============================] - 155s 2s/step - loss: 0.6236 - accuracy: 0.7770 - val_loss: 0.8253 - val_accuracy: 0.6991\n",
            "Epoch 13/100\n",
            "93/93 [==============================] - ETA: 0s - loss: 0.5838 - accuracy: 0.7842\n",
            "Epoch 00013: val_loss improved from 0.68110 to 0.62975, saving model to /content/best.h5\n",
            "93/93 [==============================] - 156s 2s/step - loss: 0.5838 - accuracy: 0.7842 - val_loss: 0.6298 - val_accuracy: 0.7686\n",
            "Epoch 14/100\n",
            "93/93 [==============================] - ETA: 0s - loss: 0.5525 - accuracy: 0.8030\n",
            "Epoch 00014: val_loss did not improve from 0.62975\n",
            "93/93 [==============================] - 156s 2s/step - loss: 0.5525 - accuracy: 0.8030 - val_loss: 0.6750 - val_accuracy: 0.7606\n",
            "Epoch 15/100\n",
            "93/93 [==============================] - ETA: 0s - loss: 0.5406 - accuracy: 0.8103\n",
            "Epoch 00015: val_loss improved from 0.62975 to 0.59651, saving model to /content/best.h5\n",
            "93/93 [==============================] - 154s 2s/step - loss: 0.5406 - accuracy: 0.8103 - val_loss: 0.5965 - val_accuracy: 0.7954\n",
            "Epoch 16/100\n",
            "93/93 [==============================] - ETA: 0s - loss: 0.4940 - accuracy: 0.8227\n",
            "Epoch 00016: val_loss did not improve from 0.59651\n",
            "93/93 [==============================] - 153s 2s/step - loss: 0.4940 - accuracy: 0.8227 - val_loss: 0.6472 - val_accuracy: 0.7717\n",
            "Epoch 17/100\n",
            "93/93 [==============================] - ETA: 0s - loss: 0.4754 - accuracy: 0.8378\n",
            "Epoch 00017: val_loss did not improve from 0.59651\n",
            "93/93 [==============================] - 153s 2s/step - loss: 0.4754 - accuracy: 0.8378 - val_loss: 0.6044 - val_accuracy: 0.7928\n",
            "Epoch 18/100\n",
            "93/93 [==============================] - ETA: 0s - loss: 0.4371 - accuracy: 0.8471\n",
            "Epoch 00018: val_loss improved from 0.59651 to 0.57442, saving model to /content/best.h5\n",
            "93/93 [==============================] - 154s 2s/step - loss: 0.4371 - accuracy: 0.8471 - val_loss: 0.5744 - val_accuracy: 0.8019\n",
            "Epoch 19/100\n",
            "93/93 [==============================] - ETA: 0s - loss: 0.4191 - accuracy: 0.8545\n",
            "Epoch 00019: val_loss did not improve from 0.57442\n",
            "93/93 [==============================] - 153s 2s/step - loss: 0.4191 - accuracy: 0.8545 - val_loss: 0.6330 - val_accuracy: 0.7722\n",
            "Epoch 20/100\n",
            "93/93 [==============================] - ETA: 0s - loss: 0.3789 - accuracy: 0.8681\n",
            "Epoch 00020: val_loss did not improve from 0.57442\n",
            "93/93 [==============================] - 153s 2s/step - loss: 0.3789 - accuracy: 0.8681 - val_loss: 0.6129 - val_accuracy: 0.7994\n",
            "Epoch 21/100\n",
            "93/93 [==============================] - ETA: 0s - loss: 0.3848 - accuracy: 0.8690\n",
            "Epoch 00021: val_loss did not improve from 0.57442\n",
            "93/93 [==============================] - 151s 2s/step - loss: 0.3848 - accuracy: 0.8690 - val_loss: 0.6308 - val_accuracy: 0.7848\n",
            "Epoch 22/100\n",
            "93/93 [==============================] - ETA: 0s - loss: 0.3824 - accuracy: 0.8705\n",
            "Epoch 00022: val_loss did not improve from 0.57442\n",
            "93/93 [==============================] - 152s 2s/step - loss: 0.3824 - accuracy: 0.8705 - val_loss: 0.6492 - val_accuracy: 0.7994\n",
            "Epoch 23/100\n",
            "93/93 [==============================] - ETA: 0s - loss: 0.2954 - accuracy: 0.9013\n",
            "Epoch 00023: val_loss did not improve from 0.57442\n",
            "93/93 [==============================] - 150s 2s/step - loss: 0.2954 - accuracy: 0.9013 - val_loss: 0.6357 - val_accuracy: 0.8095\n",
            "Epoch 24/100\n",
            "93/93 [==============================] - ETA: 0s - loss: 0.3088 - accuracy: 0.9004\n",
            "Epoch 00024: val_loss did not improve from 0.57442\n",
            "93/93 [==============================] - 151s 2s/step - loss: 0.3088 - accuracy: 0.9004 - val_loss: 0.6738 - val_accuracy: 0.7601\n",
            "Epoch 25/100\n",
            "93/93 [==============================] - ETA: 0s - loss: 0.3068 - accuracy: 0.8986\n",
            "Epoch 00025: val_loss did not improve from 0.57442\n",
            "93/93 [==============================] - 150s 2s/step - loss: 0.3068 - accuracy: 0.8986 - val_loss: 0.6711 - val_accuracy: 0.7908\n",
            "Epoch 26/100\n",
            "93/93 [==============================] - ETA: 0s - loss: 0.2678 - accuracy: 0.9114\n",
            "Epoch 00026: val_loss did not improve from 0.57442\n",
            "93/93 [==============================] - 150s 2s/step - loss: 0.2678 - accuracy: 0.9114 - val_loss: 0.5843 - val_accuracy: 0.8100\n",
            "Epoch 27/100\n",
            "93/93 [==============================] - ETA: 0s - loss: 0.2685 - accuracy: 0.9095\n",
            "Epoch 00027: val_loss did not improve from 0.57442\n",
            "93/93 [==============================] - 149s 2s/step - loss: 0.2685 - accuracy: 0.9095 - val_loss: 0.7408 - val_accuracy: 0.7959\n",
            "Epoch 28/100\n",
            "93/93 [==============================] - ETA: 0s - loss: 0.2007 - accuracy: 0.9339\n",
            "Epoch 00028: val_loss did not improve from 0.57442\n",
            "93/93 [==============================] - 151s 2s/step - loss: 0.2007 - accuracy: 0.9339 - val_loss: 0.6850 - val_accuracy: 0.8175\n",
            "Epoch 29/100\n",
            "93/93 [==============================] - ETA: 0s - loss: 0.2185 - accuracy: 0.9287\n",
            "Epoch 00029: val_loss did not improve from 0.57442\n",
            "93/93 [==============================] - 151s 2s/step - loss: 0.2185 - accuracy: 0.9287 - val_loss: 0.6344 - val_accuracy: 0.8221\n",
            "Epoch 30/100\n",
            "93/93 [==============================] - ETA: 0s - loss: 0.1799 - accuracy: 0.9373\n",
            "Epoch 00030: val_loss did not improve from 0.57442\n",
            "93/93 [==============================] - 151s 2s/step - loss: 0.1799 - accuracy: 0.9373 - val_loss: 0.6153 - val_accuracy: 0.8165\n",
            "Epoch 31/100\n",
            "93/93 [==============================] - ETA: 0s - loss: 0.1690 - accuracy: 0.9457\n",
            "Epoch 00031: val_loss did not improve from 0.57442\n",
            "93/93 [==============================] - 159s 2s/step - loss: 0.1690 - accuracy: 0.9457 - val_loss: 0.7276 - val_accuracy: 0.7888\n",
            "Epoch 32/100\n",
            "93/93 [==============================] - ETA: 0s - loss: 0.1595 - accuracy: 0.9522\n",
            "Epoch 00032: val_loss did not improve from 0.57442\n",
            "93/93 [==============================] - 159s 2s/step - loss: 0.1595 - accuracy: 0.9522 - val_loss: 0.5950 - val_accuracy: 0.8054\n",
            "Epoch 33/100\n",
            "93/93 [==============================] - ETA: 0s - loss: 0.1335 - accuracy: 0.9583\n",
            "Epoch 00033: val_loss did not improve from 0.57442\n",
            "93/93 [==============================] - 159s 2s/step - loss: 0.1335 - accuracy: 0.9583 - val_loss: 0.6871 - val_accuracy: 0.8201\n",
            "Epoch 34/100\n",
            "93/93 [==============================] - ETA: 0s - loss: 0.1110 - accuracy: 0.9638\n",
            "Epoch 00034: val_loss did not improve from 0.57442\n",
            "93/93 [==============================] - 158s 2s/step - loss: 0.1110 - accuracy: 0.9638 - val_loss: 0.9504 - val_accuracy: 0.8135\n",
            "Epoch 35/100\n",
            "93/93 [==============================] - ETA: 0s - loss: 0.1667 - accuracy: 0.9487\n",
            "Epoch 00035: val_loss did not improve from 0.57442\n",
            "93/93 [==============================] - 152s 2s/step - loss: 0.1667 - accuracy: 0.9487 - val_loss: 0.7202 - val_accuracy: 0.8130\n",
            "Epoch 36/100\n",
            "93/93 [==============================] - ETA: 0s - loss: 0.1395 - accuracy: 0.9564\n",
            "Epoch 00036: val_loss did not improve from 0.57442\n",
            "93/93 [==============================] - 150s 2s/step - loss: 0.1395 - accuracy: 0.9564 - val_loss: 0.6651 - val_accuracy: 0.8372\n",
            "Epoch 37/100\n",
            "93/93 [==============================] - ETA: 0s - loss: 0.0858 - accuracy: 0.9724\n",
            "Epoch 00037: val_loss did not improve from 0.57442\n",
            "93/93 [==============================] - 150s 2s/step - loss: 0.0858 - accuracy: 0.9724 - val_loss: 0.8654 - val_accuracy: 0.8291\n",
            "Epoch 38/100\n",
            "93/93 [==============================] - ETA: 0s - loss: 0.1288 - accuracy: 0.9593\n",
            "Epoch 00038: val_loss did not improve from 0.57442\n",
            "93/93 [==============================] - 150s 2s/step - loss: 0.1288 - accuracy: 0.9593 - val_loss: 0.7525 - val_accuracy: 0.8110\n",
            "Epoch 39/100\n",
            "93/93 [==============================] - ETA: 0s - loss: 0.1019 - accuracy: 0.9679\n",
            "Epoch 00039: val_loss did not improve from 0.57442\n",
            "93/93 [==============================] - 151s 2s/step - loss: 0.1019 - accuracy: 0.9679 - val_loss: 0.7913 - val_accuracy: 0.8165\n",
            "Epoch 40/100\n",
            "93/93 [==============================] - ETA: 0s - loss: 0.0695 - accuracy: 0.9775\n",
            "Epoch 00040: val_loss did not improve from 0.57442\n",
            "93/93 [==============================] - 155s 2s/step - loss: 0.0695 - accuracy: 0.9775 - val_loss: 0.7666 - val_accuracy: 0.8206\n",
            "Epoch 41/100\n",
            "93/93 [==============================] - ETA: 0s - loss: 0.0945 - accuracy: 0.9739\n",
            "Epoch 00041: val_loss did not improve from 0.57442\n",
            "93/93 [==============================] - 150s 2s/step - loss: 0.0945 - accuracy: 0.9739 - val_loss: 0.9677 - val_accuracy: 0.8226\n",
            "Epoch 42/100\n",
            "93/93 [==============================] - ETA: 0s - loss: 0.0792 - accuracy: 0.9766\n",
            "Epoch 00042: val_loss did not improve from 0.57442\n",
            "93/93 [==============================] - 150s 2s/step - loss: 0.0792 - accuracy: 0.9766 - val_loss: 0.7787 - val_accuracy: 0.8165\n",
            "Epoch 43/100\n",
            "93/93 [==============================] - ETA: 0s - loss: 0.0681 - accuracy: 0.9818\n",
            "Epoch 00043: val_loss did not improve from 0.57442\n",
            "93/93 [==============================] - 149s 2s/step - loss: 0.0681 - accuracy: 0.9818 - val_loss: 0.8794 - val_accuracy: 0.8180\n",
            "Epoch 44/100\n",
            "93/93 [==============================] - ETA: 0s - loss: 0.0537 - accuracy: 0.9842\n",
            "Epoch 00044: val_loss did not improve from 0.57442\n",
            "93/93 [==============================] - 150s 2s/step - loss: 0.0537 - accuracy: 0.9842 - val_loss: 0.8739 - val_accuracy: 0.8185\n",
            "Epoch 45/100\n",
            "93/93 [==============================] - ETA: 0s - loss: 0.1037 - accuracy: 0.9701\n",
            "Epoch 00045: val_loss did not improve from 0.57442\n",
            "93/93 [==============================] - 150s 2s/step - loss: 0.1037 - accuracy: 0.9701 - val_loss: 0.9534 - val_accuracy: 0.8044\n",
            "Epoch 46/100\n",
            "93/93 [==============================] - ETA: 0s - loss: 0.0777 - accuracy: 0.9778\n",
            "Epoch 00046: val_loss did not improve from 0.57442\n",
            "93/93 [==============================] - 150s 2s/step - loss: 0.0777 - accuracy: 0.9778 - val_loss: 0.7532 - val_accuracy: 0.8216\n",
            "Epoch 47/100\n",
            "93/93 [==============================] - ETA: 0s - loss: 0.0704 - accuracy: 0.9798\n",
            "Epoch 00047: val_loss did not improve from 0.57442\n",
            "93/93 [==============================] - 150s 2s/step - loss: 0.0704 - accuracy: 0.9798 - val_loss: 0.8260 - val_accuracy: 0.8175\n",
            "Epoch 48/100\n",
            "93/93 [==============================] - ETA: 0s - loss: 0.0540 - accuracy: 0.9860\n",
            "Epoch 00048: val_loss did not improve from 0.57442\n",
            "93/93 [==============================] - 150s 2s/step - loss: 0.0540 - accuracy: 0.9860 - val_loss: 0.9287 - val_accuracy: 0.8170\n",
            "Epoch 49/100\n",
            "93/93 [==============================] - ETA: 0s - loss: 0.0424 - accuracy: 0.9886\n",
            "Epoch 00049: val_loss did not improve from 0.57442\n",
            "93/93 [==============================] - 150s 2s/step - loss: 0.0424 - accuracy: 0.9886 - val_loss: 0.9019 - val_accuracy: 0.8306\n",
            "Epoch 50/100\n",
            "93/93 [==============================] - ETA: 0s - loss: 0.0910 - accuracy: 0.9759\n",
            "Epoch 00050: val_loss did not improve from 0.57442\n",
            "93/93 [==============================] - 151s 2s/step - loss: 0.0910 - accuracy: 0.9759 - val_loss: 0.7508 - val_accuracy: 0.8402\n",
            "Epoch 51/100\n",
            "93/93 [==============================] - ETA: 0s - loss: 0.0501 - accuracy: 0.9867\n",
            "Epoch 00051: val_loss did not improve from 0.57442\n",
            "93/93 [==============================] - 151s 2s/step - loss: 0.0501 - accuracy: 0.9867 - val_loss: 0.8459 - val_accuracy: 0.8347\n",
            "Epoch 52/100\n",
            "93/93 [==============================] - ETA: 0s - loss: 0.0767 - accuracy: 0.9796\n",
            "Epoch 00052: val_loss did not improve from 0.57442\n",
            "93/93 [==============================] - 151s 2s/step - loss: 0.0767 - accuracy: 0.9796 - val_loss: 0.8489 - val_accuracy: 0.8246\n",
            "Epoch 53/100\n",
            "93/93 [==============================] - ETA: 0s - loss: 0.0366 - accuracy: 0.9907\n",
            "Epoch 00053: val_loss did not improve from 0.57442\n",
            "93/93 [==============================] - 150s 2s/step - loss: 0.0366 - accuracy: 0.9907 - val_loss: 0.8320 - val_accuracy: 0.8281\n",
            "Epoch 54/100\n",
            "93/93 [==============================] - ETA: 0s - loss: 0.0723 - accuracy: 0.9810\n",
            "Epoch 00054: val_loss did not improve from 0.57442\n",
            "93/93 [==============================] - 149s 2s/step - loss: 0.0723 - accuracy: 0.9810 - val_loss: 0.8100 - val_accuracy: 0.8211\n",
            "Epoch 55/100\n",
            "93/93 [==============================] - ETA: 0s - loss: 0.0784 - accuracy: 0.9803\n",
            "Epoch 00055: val_loss did not improve from 0.57442\n",
            "93/93 [==============================] - 149s 2s/step - loss: 0.0784 - accuracy: 0.9803 - val_loss: 0.7526 - val_accuracy: 0.8251\n",
            "Epoch 56/100\n",
            "93/93 [==============================] - ETA: 0s - loss: 0.0469 - accuracy: 0.9870\n",
            "Epoch 00056: val_loss did not improve from 0.57442\n",
            "93/93 [==============================] - 149s 2s/step - loss: 0.0469 - accuracy: 0.9870 - val_loss: 0.7882 - val_accuracy: 0.8155\n",
            "Epoch 57/100\n",
            "93/93 [==============================] - ETA: 0s - loss: 0.0565 - accuracy: 0.9839\n",
            "Epoch 00057: val_loss did not improve from 0.57442\n",
            "93/93 [==============================] - 151s 2s/step - loss: 0.0565 - accuracy: 0.9839 - val_loss: 0.8357 - val_accuracy: 0.8236\n",
            "Epoch 58/100\n",
            "93/93 [==============================] - ETA: 0s - loss: 0.1126 - accuracy: 0.9702\n",
            "Epoch 00058: val_loss did not improve from 0.57442\n",
            "93/93 [==============================] - 150s 2s/step - loss: 0.1126 - accuracy: 0.9702 - val_loss: 0.8477 - val_accuracy: 0.8014\n",
            "Epoch 59/100\n",
            "93/93 [==============================] - ETA: 0s - loss: 0.0657 - accuracy: 0.9805\n",
            "Epoch 00059: val_loss did not improve from 0.57442\n",
            "93/93 [==============================] - 149s 2s/step - loss: 0.0657 - accuracy: 0.9805 - val_loss: 0.8594 - val_accuracy: 0.8261\n",
            "Epoch 60/100\n",
            "93/93 [==============================] - ETA: 0s - loss: 0.0566 - accuracy: 0.9850\n",
            "Epoch 00060: val_loss did not improve from 0.57442\n",
            "93/93 [==============================] - 150s 2s/step - loss: 0.0566 - accuracy: 0.9850 - val_loss: 0.9500 - val_accuracy: 0.8191\n",
            "Epoch 61/100\n",
            "93/93 [==============================] - ETA: 0s - loss: 0.0268 - accuracy: 0.9923\n",
            "Epoch 00061: val_loss did not improve from 0.57442\n",
            "93/93 [==============================] - 149s 2s/step - loss: 0.0268 - accuracy: 0.9923 - val_loss: 1.0194 - val_accuracy: 0.8236\n",
            "Epoch 62/100\n",
            "93/93 [==============================] - ETA: 0s - loss: 0.0434 - accuracy: 0.9869\n",
            "Epoch 00062: val_loss did not improve from 0.57442\n",
            "93/93 [==============================] - 148s 2s/step - loss: 0.0434 - accuracy: 0.9869 - val_loss: 1.0246 - val_accuracy: 0.8317\n",
            "Epoch 63/100\n",
            "93/93 [==============================] - ETA: 0s - loss: 0.0679 - accuracy: 0.9810\n",
            "Epoch 00063: val_loss did not improve from 0.57442\n",
            "93/93 [==============================] - 149s 2s/step - loss: 0.0679 - accuracy: 0.9810 - val_loss: 1.0387 - val_accuracy: 0.8120\n",
            "Epoch 64/100\n",
            "93/93 [==============================] - ETA: 0s - loss: 0.0722 - accuracy: 0.9810\n",
            "Epoch 00064: val_loss did not improve from 0.57442\n",
            "93/93 [==============================] - 149s 2s/step - loss: 0.0722 - accuracy: 0.9810 - val_loss: 0.8103 - val_accuracy: 0.8135\n",
            "Epoch 65/100\n",
            "93/93 [==============================] - ETA: 0s - loss: 0.0453 - accuracy: 0.9854\n",
            "Epoch 00065: val_loss did not improve from 0.57442\n",
            "93/93 [==============================] - 148s 2s/step - loss: 0.0453 - accuracy: 0.9854 - val_loss: 0.8932 - val_accuracy: 0.8286\n",
            "Epoch 66/100\n",
            "93/93 [==============================] - ETA: 0s - loss: 0.0648 - accuracy: 0.9823\n",
            "Epoch 00066: val_loss did not improve from 0.57442\n",
            "93/93 [==============================] - 148s 2s/step - loss: 0.0648 - accuracy: 0.9823 - val_loss: 0.8480 - val_accuracy: 0.8170\n",
            "Epoch 67/100\n",
            "93/93 [==============================] - ETA: 0s - loss: 0.0152 - accuracy: 0.9965\n",
            "Epoch 00067: val_loss did not improve from 0.57442\n",
            "93/93 [==============================] - 149s 2s/step - loss: 0.0152 - accuracy: 0.9965 - val_loss: 1.0101 - val_accuracy: 0.8296\n",
            "Epoch 68/100\n",
            "93/93 [==============================] - ETA: 0s - loss: 0.0762 - accuracy: 0.9813\n",
            "Epoch 00068: val_loss did not improve from 0.57442\n",
            "93/93 [==============================] - 149s 2s/step - loss: 0.0762 - accuracy: 0.9813 - val_loss: 0.7367 - val_accuracy: 0.8256\n",
            "Epoch 69/100\n",
            "93/93 [==============================] - ETA: 0s - loss: 0.0179 - accuracy: 0.9956\n",
            "Epoch 00069: val_loss did not improve from 0.57442\n",
            "93/93 [==============================] - 149s 2s/step - loss: 0.0179 - accuracy: 0.9956 - val_loss: 0.9693 - val_accuracy: 0.8135\n",
            "Epoch 70/100\n",
            "93/93 [==============================] - ETA: 0s - loss: 0.0277 - accuracy: 0.9933\n",
            "Epoch 00070: val_loss did not improve from 0.57442\n",
            "93/93 [==============================] - 149s 2s/step - loss: 0.0277 - accuracy: 0.9933 - val_loss: 1.1695 - val_accuracy: 0.8125\n",
            "Epoch 71/100\n",
            "93/93 [==============================] - ETA: 0s - loss: 0.0402 - accuracy: 0.9887\n",
            "Epoch 00071: val_loss did not improve from 0.57442\n",
            "93/93 [==============================] - 149s 2s/step - loss: 0.0402 - accuracy: 0.9887 - val_loss: 0.7950 - val_accuracy: 0.8201\n",
            "Epoch 72/100\n",
            "93/93 [==============================] - ETA: 0s - loss: 0.0690 - accuracy: 0.9823\n",
            "Epoch 00072: val_loss did not improve from 0.57442\n",
            "93/93 [==============================] - 149s 2s/step - loss: 0.0690 - accuracy: 0.9823 - val_loss: 0.7487 - val_accuracy: 0.8271\n",
            "Epoch 73/100\n",
            "93/93 [==============================] - ETA: 0s - loss: 0.0258 - accuracy: 0.9928\n",
            "Epoch 00073: val_loss did not improve from 0.57442\n",
            "93/93 [==============================] - 149s 2s/step - loss: 0.0258 - accuracy: 0.9928 - val_loss: 0.9044 - val_accuracy: 0.8322\n",
            "Epoch 74/100\n",
            "93/93 [==============================] - ETA: 0s - loss: 0.0543 - accuracy: 0.9869\n",
            "Epoch 00074: val_loss did not improve from 0.57442\n",
            "93/93 [==============================] - 149s 2s/step - loss: 0.0543 - accuracy: 0.9869 - val_loss: 0.7084 - val_accuracy: 0.8145\n",
            "Epoch 75/100\n",
            "93/93 [==============================] - ETA: 0s - loss: 0.0574 - accuracy: 0.9837\n",
            "Epoch 00075: val_loss did not improve from 0.57442\n",
            "93/93 [==============================] - 149s 2s/step - loss: 0.0574 - accuracy: 0.9837 - val_loss: 0.8727 - val_accuracy: 0.8296\n",
            "Epoch 76/100\n",
            "93/93 [==============================] - ETA: 0s - loss: 0.0174 - accuracy: 0.9960\n",
            "Epoch 00076: val_loss did not improve from 0.57442\n",
            "93/93 [==============================] - 149s 2s/step - loss: 0.0174 - accuracy: 0.9960 - val_loss: 0.9152 - val_accuracy: 0.8246\n",
            "Epoch 77/100\n",
            "93/93 [==============================] - ETA: 0s - loss: 0.0373 - accuracy: 0.9913\n",
            "Epoch 00077: val_loss did not improve from 0.57442\n",
            "93/93 [==============================] - 149s 2s/step - loss: 0.0373 - accuracy: 0.9913 - val_loss: 0.9285 - val_accuracy: 0.8211\n",
            "Epoch 78/100\n",
            "93/93 [==============================] - ETA: 0s - loss: 0.0377 - accuracy: 0.9889\n",
            "Epoch 00078: val_loss did not improve from 0.57442\n",
            "93/93 [==============================] - 149s 2s/step - loss: 0.0377 - accuracy: 0.9889 - val_loss: 1.0082 - val_accuracy: 0.7974\n",
            "Epoch 79/100\n",
            "93/93 [==============================] - ETA: 0s - loss: 0.0584 - accuracy: 0.9845\n",
            "Epoch 00079: val_loss did not improve from 0.57442\n",
            "93/93 [==============================] - 149s 2s/step - loss: 0.0584 - accuracy: 0.9845 - val_loss: 0.8172 - val_accuracy: 0.8170\n",
            "Epoch 80/100\n",
            "93/93 [==============================] - ETA: 0s - loss: 0.0198 - accuracy: 0.9950\n",
            "Epoch 00080: val_loss did not improve from 0.57442\n",
            "93/93 [==============================] - 150s 2s/step - loss: 0.0198 - accuracy: 0.9950 - val_loss: 1.0839 - val_accuracy: 0.8110\n",
            "Epoch 81/100\n",
            "93/93 [==============================] - ETA: 0s - loss: 0.0282 - accuracy: 0.9918\n",
            "Epoch 00081: val_loss did not improve from 0.57442\n",
            "93/93 [==============================] - 150s 2s/step - loss: 0.0282 - accuracy: 0.9918 - val_loss: 0.9178 - val_accuracy: 0.8180\n",
            "Epoch 82/100\n",
            "93/93 [==============================] - ETA: 0s - loss: 0.0332 - accuracy: 0.9923\n",
            "Epoch 00082: val_loss did not improve from 0.57442\n",
            "93/93 [==============================] - 150s 2s/step - loss: 0.0332 - accuracy: 0.9923 - val_loss: 0.8736 - val_accuracy: 0.8306\n",
            "Epoch 83/100\n",
            "93/93 [==============================] - ETA: 0s - loss: 0.0489 - accuracy: 0.9881\n",
            "Epoch 00083: val_loss did not improve from 0.57442\n",
            "93/93 [==============================] - 149s 2s/step - loss: 0.0489 - accuracy: 0.9881 - val_loss: 0.8537 - val_accuracy: 0.8221\n",
            "Epoch 84/100\n",
            "93/93 [==============================] - ETA: 0s - loss: 0.0448 - accuracy: 0.9887\n",
            "Epoch 00084: val_loss did not improve from 0.57442\n",
            "93/93 [==============================] - 149s 2s/step - loss: 0.0448 - accuracy: 0.9887 - val_loss: 0.7988 - val_accuracy: 0.8175\n",
            "Epoch 85/100\n",
            "93/93 [==============================] - ETA: 0s - loss: 0.0844 - accuracy: 0.9749\n",
            "Epoch 00085: val_loss did not improve from 0.57442\n",
            "93/93 [==============================] - 149s 2s/step - loss: 0.0844 - accuracy: 0.9749 - val_loss: 0.6837 - val_accuracy: 0.8165\n",
            "Epoch 86/100\n",
            "93/93 [==============================] - ETA: 0s - loss: 0.0140 - accuracy: 0.9961\n",
            "Epoch 00086: val_loss did not improve from 0.57442\n",
            "93/93 [==============================] - 149s 2s/step - loss: 0.0140 - accuracy: 0.9961 - val_loss: 0.9613 - val_accuracy: 0.8322\n",
            "Epoch 87/100\n",
            "93/93 [==============================] - ETA: 0s - loss: 0.0362 - accuracy: 0.9902\n",
            "Epoch 00087: val_loss did not improve from 0.57442\n",
            "93/93 [==============================] - 148s 2s/step - loss: 0.0362 - accuracy: 0.9902 - val_loss: 0.8071 - val_accuracy: 0.8110\n",
            "Epoch 88/100\n",
            "93/93 [==============================] - ETA: 0s - loss: 0.0340 - accuracy: 0.9916\n",
            "Epoch 00088: val_loss did not improve from 0.57442\n",
            "93/93 [==============================] - 149s 2s/step - loss: 0.0340 - accuracy: 0.9916 - val_loss: 0.8612 - val_accuracy: 0.8211\n",
            "Epoch 89/100\n",
            "93/93 [==============================] - ETA: 0s - loss: 0.0365 - accuracy: 0.9902\n",
            "Epoch 00089: val_loss did not improve from 0.57442\n",
            "93/93 [==============================] - 149s 2s/step - loss: 0.0365 - accuracy: 0.9902 - val_loss: 0.9227 - val_accuracy: 0.8135\n",
            "Epoch 90/100\n",
            "93/93 [==============================] - ETA: 0s - loss: 0.0261 - accuracy: 0.9916\n",
            "Epoch 00090: val_loss did not improve from 0.57442\n",
            "93/93 [==============================] - 149s 2s/step - loss: 0.0261 - accuracy: 0.9916 - val_loss: 1.0130 - val_accuracy: 0.8196\n",
            "Epoch 91/100\n",
            "93/93 [==============================] - ETA: 0s - loss: 0.0213 - accuracy: 0.9943\n",
            "Epoch 00091: val_loss did not improve from 0.57442\n",
            "93/93 [==============================] - 148s 2s/step - loss: 0.0213 - accuracy: 0.9943 - val_loss: 0.8699 - val_accuracy: 0.8266\n",
            "Epoch 92/100\n",
            "93/93 [==============================] - ETA: 0s - loss: 0.0135 - accuracy: 0.9963\n",
            "Epoch 00092: val_loss did not improve from 0.57442\n",
            "93/93 [==============================] - 149s 2s/step - loss: 0.0135 - accuracy: 0.9963 - val_loss: 1.1621 - val_accuracy: 0.7863\n",
            "Epoch 93/100\n",
            "93/93 [==============================] - ETA: 0s - loss: 0.0285 - accuracy: 0.9931\n",
            "Epoch 00093: val_loss did not improve from 0.57442\n",
            "93/93 [==============================] - 148s 2s/step - loss: 0.0285 - accuracy: 0.9931 - val_loss: 0.8776 - val_accuracy: 0.8054\n",
            "Epoch 94/100\n",
            "93/93 [==============================] - ETA: 0s - loss: 0.0151 - accuracy: 0.9955\n",
            "Epoch 00094: val_loss did not improve from 0.57442\n",
            "93/93 [==============================] - 149s 2s/step - loss: 0.0151 - accuracy: 0.9955 - val_loss: 0.8618 - val_accuracy: 0.8211\n",
            "Epoch 95/100\n",
            "93/93 [==============================] - ETA: 0s - loss: 0.0202 - accuracy: 0.9933\n",
            "Epoch 00095: val_loss did not improve from 0.57442\n",
            "93/93 [==============================] - 148s 2s/step - loss: 0.0202 - accuracy: 0.9933 - val_loss: 1.0280 - val_accuracy: 0.8211\n",
            "Epoch 96/100\n",
            "93/93 [==============================] - ETA: 0s - loss: 0.1035 - accuracy: 0.9753\n",
            "Epoch 00096: val_loss did not improve from 0.57442\n",
            "93/93 [==============================] - 149s 2s/step - loss: 0.1035 - accuracy: 0.9753 - val_loss: 0.7351 - val_accuracy: 0.7737\n",
            "Epoch 97/100\n",
            "93/93 [==============================] - ETA: 0s - loss: 0.0592 - accuracy: 0.9837\n",
            "Epoch 00097: val_loss did not improve from 0.57442\n",
            "93/93 [==============================] - 148s 2s/step - loss: 0.0592 - accuracy: 0.9837 - val_loss: 0.8218 - val_accuracy: 0.8241\n",
            "Epoch 98/100\n",
            "93/93 [==============================] - ETA: 0s - loss: 0.0033 - accuracy: 0.9997\n",
            "Epoch 00098: val_loss did not improve from 0.57442\n",
            "93/93 [==============================] - 149s 2s/step - loss: 0.0033 - accuracy: 0.9997 - val_loss: 1.0457 - val_accuracy: 0.8306\n",
            "Epoch 99/100\n",
            "93/93 [==============================] - ETA: 0s - loss: 0.0033 - accuracy: 0.9997\n",
            "Epoch 00099: val_loss did not improve from 0.57442\n",
            "93/93 [==============================] - 148s 2s/step - loss: 0.0033 - accuracy: 0.9997 - val_loss: 1.2950 - val_accuracy: 0.8221\n",
            "Epoch 100/100\n",
            "93/93 [==============================] - ETA: 0s - loss: 0.0445 - accuracy: 0.9874\n",
            "Epoch 00100: val_loss did not improve from 0.57442\n",
            "93/93 [==============================] - 149s 2s/step - loss: 0.0445 - accuracy: 0.9874 - val_loss: 0.8136 - val_accuracy: 0.8054\n"
          ],
          "name": "stdout"
        },
        {
          "output_type": "execute_result",
          "data": {
            "text/plain": [
              "<tensorflow.python.keras.callbacks.History at 0x7f100034b0f0>"
            ]
          },
          "metadata": {
            "tags": []
          },
          "execution_count": 20
        }
      ]
    },
    {
      "cell_type": "code",
      "metadata": {
        "id": "LqaBj9EjLjec",
        "outputId": "0dd6e8bd-ce79-4e66-af04-5df6f561bea5",
        "colab": {
          "base_uri": "https://localhost:8080/",
          "height": 159
        }
      },
      "source": [
        "model.save(\"skin_model.h5\")"
      ],
      "execution_count": 21,
      "outputs": [
        {
          "output_type": "stream",
          "text": [
            "WARNING:tensorflow:From /usr/local/lib/python3.6/dist-packages/tensorflow/python/training/tracking/tracking.py:111: Model.state_updates (from tensorflow.python.keras.engine.training) is deprecated and will be removed in a future version.\n",
            "Instructions for updating:\n",
            "This property should not be used in TensorFlow 2.0, as updates are applied automatically.\n",
            "WARNING:tensorflow:From /usr/local/lib/python3.6/dist-packages/tensorflow/python/training/tracking/tracking.py:111: Layer.updates (from tensorflow.python.keras.engine.base_layer) is deprecated and will be removed in a future version.\n",
            "Instructions for updating:\n",
            "This property should not be used in TensorFlow 2.0, as updates are applied automatically.\n",
            "INFO:tensorflow:Assets written to: model_e100/assets\n"
          ],
          "name": "stdout"
        }
      ]
    },
    {
      "cell_type": "code",
      "metadata": {
        "id": "HEtWYe8_ireH",
        "outputId": "9c646d43-b53f-4dac-d819-39c0b6e84177",
        "colab": {
          "base_uri": "https://localhost:8080/",
          "height": 124
        }
      },
      "source": [
        "test_data.reset()\n",
        "predictions = model.predict_generator(test_data, steps=test_data.samples/test_data.batch_size,verbose=1)\n",
        "y_pred= np.argmax(predictions, axis=1)"
      ],
      "execution_count": 22,
      "outputs": [
        {
          "output_type": "stream",
          "text": [
            "WARNING:tensorflow:From <ipython-input-22-99bdc2a40673>:2: Model.predict_generator (from tensorflow.python.keras.engine.training) is deprecated and will be removed in a future version.\n",
            "Instructions for updating:\n",
            "Please use Model.predict, which supports generators.\n",
            "   1/2003 [..............................] - ETA: 0sWARNING:tensorflow:Callbacks method `on_predict_batch_end` is slow compared to the batch time (batch time: 0.0029s vs `on_predict_batch_end` time: 0.0058s). Check your callbacks.\n",
            "2003/2003 [==============================] - 26s 13ms/step\n"
          ],
          "name": "stdout"
        }
      ]
    }
  ]
}